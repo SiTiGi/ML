{
 "cells": [
  {
   "cell_type": "markdown",
   "metadata": {},
   "source": [
    "# Задача 1\n",
    "\n",
    "Дан текст, выполнить с ним следующие операции:\n",
    "* Вывести длину текста\n",
    "* Заменить буквы 'о' на буквы 'а'\n",
    "* Удалить слова 'не' и 'ни'"
   ]
  },
  {
   "cell_type": "code",
   "execution_count": 1,
   "metadata": {},
   "outputs": [],
   "source": [
    "quote = \"\"\"\n",
    "Будучи вне дома, держите себя так, словно принимаете почетных гостей.\n",
    "Пользуясь услугами людей, ведите себя так, словно свершаете торжественный обряд.\n",
    "Не делайте другим того, чего себе не пожелаете.\n",
    "Тогда ни в государстве, ни в семье не будет недовольства.\n",
    "\"\"\""
   ]
  },
  {
   "cell_type": "code",
   "execution_count": 2,
   "metadata": {},
   "outputs": [
    {
     "name": "stdout",
     "output_type": "stream",
     "text": [
      "quote len:  258\n",
      "/'o/' to /'a/' \n",
      "Будучи вне дома, держите себя так, словно принимаете почетных гостей.\n",
      "Пользуясь услугами людей, ведите себя так, словно свершаете торжественный обряд.\n",
      "Не делайте другим того, чего себе не пожелаете.\n",
      "Тогда ни в государстве, ни в семье не будет недовольства.\n",
      "\n",
      "delete \"не\" and \"ни\" \n",
      "Будучи в дома, держите себя так, словно примаете почетных гостей.\n",
      "Пользуясь услугами людей, ведите себя так, словно свершаете торжественный обряд.\n",
      "Не делайте другим того, чего себе  пожелаете.\n",
      "Тогда  в государстве,  в семье  будет довольства.\n",
      "\n"
     ]
    }
   ],
   "source": [
    "print(\"quote len: \", len(quote))\n",
    "\n",
    "#change symbol 'не' to 'ни'\n",
    "quote = quote.replace('o', 'a')\n",
    "print(\"/'o/' to /'a/'\", quote)\n",
    "\n",
    "quote = quote.replace(\"не\", \"\")\n",
    "quote = quote.replace(\"ни\", \"\")\n",
    "print(\"delete \\\"не\\\" and \\\"ни\\\"\", quote)\n"
   ]
  },
  {
   "cell_type": "markdown",
   "metadata": {},
   "source": [
    "# Задача 2\n",
    "\n",
    "Сложные проценты - https://ru.onlinemschool.com/math/library/percent/percent10/\n",
    "\n",
    "Пользователь желает положить деньги под проценты на определенный срок. Банк каждый год начисляет 8% годовых. Вычислить полученную сумму в конце срока.\n",
    "\n",
    "Доп. задача, распишите прибыль за каждый год. (можно использовать циклы если знаете, но можно и без)\n",
    "\n",
    "Онлайн калькулятор, для проверки ответов: https://wpcalc.com/slozhnyj-procent/"
   ]
  },
  {
   "cell_type": "code",
   "execution_count": 3,
   "metadata": {},
   "outputs": [],
   "source": [
    "# сумма пользователя в рублях, которую он положит в банк\n",
    "source_amt = 412500\n",
    "\n",
    "# годовой процент\n",
    "annual_interest = 8\n",
    "\n",
    "# срок в 5 лет\n",
    "time = 5\n",
    "\n",
    "# в эту переменную нужно записать ответ\n",
    "result = -1"
   ]
  },
  {
   "cell_type": "code",
   "execution_count": 5,
   "metadata": {},
   "outputs": [
    {
     "name": "stdout",
     "output_type": "stream",
     "text": [
      "start amt: 412500\n",
      "start:  412500  for  1 years 445500.0 , this year:  33000.0\n",
      "start:  445500.0  for  2 years 481140.0 , this year:  35640.0\n",
      "start:  481140.0  for  3 years 519631.2 , this year:  38491.2\n",
      "start:  519631.2  for  4 years 561201.7 , this year:  41570.5\n",
      "start:  561201.7  for  5 years 606097.83 , this year:  44896.14\n"
     ]
    }
   ],
   "source": [
    "# Пишите свой код\n",
    "result = source_amt\n",
    "print(\"start amt:\", source_amt)\n",
    "for i in range(time):\n",
    "    oldresult = result\n",
    "    result = result * (1 + annual_interest / 100 )\n",
    "    print(\"start: \", round(oldresult, 2),\n",
    "          \" for \", i + 1, \"years\", round(result, 2),\n",
    "          \", this year: \", round(result - oldresult, 2))\n",
    "\n",
    "\n"
   ]
  }
 ],
 "metadata": {
  "kernelspec": {
   "display_name": "Python 3",
   "language": "python",
   "name": "python3"
  },
  "language_info": {
   "codemirror_mode": {
    "name": "ipython",
    "version": 3
   },
   "file_extension": ".py",
   "mimetype": "text/x-python",
   "name": "python",
   "nbconvert_exporter": "python",
   "pygments_lexer": "ipython3",
   "version": "3.7.4"
  }
 },
 "nbformat": 4,
 "nbformat_minor": 2
}
