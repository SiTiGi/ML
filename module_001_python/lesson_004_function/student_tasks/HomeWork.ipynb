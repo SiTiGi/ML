{
 "cells": [
  {
   "cell_type": "markdown",
   "metadata": {},
   "source": [
    "# Задача 1\n",
    "Проектирование функций для построения обучающих моделей по данным. В данной задача вам нужно разработать прототипы функций(объявление функций без реализаций) для задачи анализа данных из машинного обучения, должны быть учтены следующие шаги:\n",
    "* Загрузка данных из внешних источников\n",
    "* Обработка не заданных значений - пропусков\n",
    "* Удаление не информативных признаков и объектов\n",
    "* Получение модели для обучения\n",
    "* Оценка качества модели\n",
    "* Сохранение модели в файл"
   ]
  },
  {
   "cell_type": "code",
   "execution_count": 1,
   "metadata": {},
   "outputs": [],
   "source": [
    "def downlound(path):\n",
    "    pass\n",
    "\n",
    "def checkPass(arg, passVar):\n",
    "    pass\n",
    "\n",
    "def deleteVar(arg, lambda1):\n",
    "    pass\n",
    "\n",
    "def calcModel(data):\n",
    "    pass\n",
    "\n",
    "def qualityModel(data, lambda1):\n",
    "    pass\n",
    "\n",
    "def save(path, data):\n",
    "    pass"
   ]
  },
  {
   "cell_type": "markdown",
   "metadata": {},
   "source": [
    "# Задача 2\n",
    "Задача повышенной сложности. Реализовать вывод треугольника паскаля, через функцию. Пример треугольника:\n",
    "![pascal triangle](pascal.png)\n",
    "Глубина 10 по умолчанию"
   ]
  },
  {
   "cell_type": "code",
   "execution_count": 8,
   "metadata": {},
   "outputs": [
    {
     "name": "stdout",
     "output_type": "stream",
     "text": [
      "[1]\n",
      "[1, 1]\n",
      "[1, 2, 1]\n",
      "[1, 3, 3, 1]\n",
      "[1, 4, 6, 4, 1]\n",
      "[1, 5, 10, 10, 5, 1]\n"
     ]
    }
   ],
   "source": [
    "def printPaskalTriangle(a,b,height=10):\n",
    "    pascalTriangle = [[1]]\n",
    "    \n",
    "    for i in range(1, height):\n",
    "        resultLocal = []\n",
    "        for width in range(0,i+1):\n",
    "            left = 0\n",
    "            right = 0\n",
    "            if width > 0:\n",
    "                left = pascalTriangle[i-1][width-1]\n",
    "            if width < i:\n",
    "                right = pascalTriangle[i-1][width]\n",
    "            resultLocal.append(left + right)\n",
    "        pascalTriangle.append(resultLocal)\n",
    "    \n",
    "    for line in range(0, height):\n",
    "        resultLocal = []\n",
    "        for column in range(0,line):\n",
    "            k_a = a**(line - column)\n",
    "            k_b = b**(column)\n",
    "            pascalTriangle[line][column] *= a * b\n",
    "            \n",
    "    for line in pascalTriangle:\n",
    "        print(line)\n",
    "    \n",
    "        \n",
    "        \n",
    "        \n",
    "printPaskalTriangle(1,1,6)\n",
    "        \n",
    "        \n",
    "        \n",
    "        \n",
    "        "
   ]
  },
  {
   "cell_type": "code",
   "execution_count": null,
   "metadata": {},
   "outputs": [],
   "source": []
  }
 ],
 "metadata": {
  "kernelspec": {
   "display_name": "Python 3",
   "language": "python",
   "name": "python3"
  },
  "language_info": {
   "codemirror_mode": {
    "name": "ipython",
    "version": 3
   },
   "file_extension": ".py",
   "mimetype": "text/x-python",
   "name": "python",
   "nbconvert_exporter": "python",
   "pygments_lexer": "ipython3",
   "version": "3.7.4"
  }
 },
 "nbformat": 4,
 "nbformat_minor": 2
}
