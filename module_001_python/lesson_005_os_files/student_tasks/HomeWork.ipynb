{
 "cells": [
  {
   "cell_type": "markdown",
   "metadata": {},
   "source": [
    "# Задача 1\n",
    "* Копирование файла, в текущей папке есть изображение img1.jpg, нужно скопировать это изображение и назвать img2.jpg\n",
    "\n",
    "Режимы открытия файла, можно прочитать здесь: https://www.w3schools.com/python/ref_func_open.asp"
   ]
  },
  {
   "cell_type": "code",
   "execution_count": 12,
   "metadata": {},
   "outputs": [],
   "source": [
    "with open(\"img1.jpg\", \"rb\") as file:\n",
    "    with open(\"img2.jpg\", \"wb\") as file2:\n",
    "        file2.write(file.read())"
   ]
  },
  {
   "cell_type": "markdown",
   "metadata": {},
   "source": [
    "# Задача 2\n",
    "* В текущей директории лежит файл addresses.csv, прочитайте этот файл, выведите информацию о том сколько в нем записей(строк) и сколько признаков(колонок), добавьте каждой записи новую колонку country и запишите информацию в новый файл addresses2.csv\n",
    "\n",
    "Информация о writer - https://docs.python.org/3/library/csv.html"
   ]
  },
  {
   "cell_type": "code",
   "execution_count": 77,
   "metadata": {},
   "outputs": [
    {
     "name": "stdout",
     "output_type": "stream",
     "text": [
      "Line:  6\n",
      "Colum: 6\n",
      "['John', 'Doe', '120 jefferson st.', 'Riverside', ' NJ', ' 08075', 'ua']\n",
      "['Jack', 'McGinnis', '220 hobo Av.', 'Phila', ' PA', '09119', 'ua']\n",
      "['John \"Da Man\"', 'Repici', '120 Jefferson St.', 'Riverside', ' NJ', '08075', 'ua']\n",
      "['Stephen', 'Tyler', '7452 Terrace \"At the Plaza\" road', 'SomeTown', 'SD', ' 91234', 'ua']\n",
      "['Joan \"the bone', 'Blankman', '', 'SomeTown', ' SD', ' 00298', 'ua']\n",
      "['Anne', 'Jet', '9th, at Terrace plc', 'Desert City', 'CO', '00123', 'ua']\n"
     ]
    }
   ],
   "source": [
    "import csv\n",
    "\n",
    "def readFile(filename):\n",
    "    with open(filename, \"r\") as file:\n",
    "        csv_reader = csv.reader(file,delimiter=',')\n",
    "        model = []\n",
    "        for line in csv_reader:\n",
    "            model.append(line)\n",
    "        return model\n",
    "\n",
    "def printInfo(model):\n",
    "    print(\"Line: \",len(model))\n",
    "    if len(model) > 0:\n",
    "        print(\"Colum:\", len(model[0]))\n",
    "    else:\n",
    "        print(\"Colum:\", 0)\n",
    "\n",
    "def addColum(model, element):\n",
    "    for i in model:\n",
    "        i.append(element)\n",
    "\n",
    "def writeModel(filename, model):\n",
    "    with open(filename, \"w\", newline='') as file:\n",
    "        csv_writer = csv.writer(file)\n",
    "        for line in model:\n",
    "            csv_writer.writerow(line)\n",
    "\n",
    "model = readFile(\"addresses.csv\")\n",
    "printInfo(model)\n",
    "addColum(model, \"ua\")\n",
    "\n",
    "for i in model:\n",
    "    print(i)\n",
    "\n",
    "writeModel(\"addresses2.csv\", model)\n",
    "\n"
   ]
  },
  {
   "cell_type": "code",
   "execution_count": null,
   "metadata": {},
   "outputs": [],
   "source": []
  }
 ],
 "metadata": {
  "kernelspec": {
   "display_name": "Python 3",
   "language": "python",
   "name": "python3"
  },
  "language_info": {
   "codemirror_mode": {
    "name": "ipython",
    "version": 3
   },
   "file_extension": ".py",
   "mimetype": "text/x-python",
   "name": "python",
   "nbconvert_exporter": "python",
   "pygments_lexer": "ipython3",
   "version": "3.7.4"
  }
 },
 "nbformat": 4,
 "nbformat_minor": 2
}
